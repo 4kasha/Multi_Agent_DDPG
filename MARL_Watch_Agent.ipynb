{
 "cells": [
  {
   "cell_type": "markdown",
   "metadata": {},
   "source": [
    "# Watch a trained Agent"
   ]
  },
  {
   "cell_type": "code",
   "execution_count": 1,
   "metadata": {},
   "outputs": [],
   "source": [
    "from unityagents import UnityEnvironment\n",
    "import numpy as np\n",
    "from collections import deque\n",
    "import torch\n",
    "import matplotlib.pyplot as plt"
   ]
  },
  {
   "cell_type": "code",
   "execution_count": 2,
   "metadata": {},
   "outputs": [],
   "source": [
    "config = {\n",
    "    'BUFFER_SIZE': int(1e6),         # replay buffer size\n",
    "    'BATCH_SIZE' : 256,              # minibatch size\n",
    "    'GAMMA' : 0.99,                  # discount factor\n",
    "    'TAU' :1e-3,                     # for soft update of target parameters\n",
    "    'LR_ACTOR' : 1e-3,               # learning rate of the actor\n",
    "    'LR_CRITIC' : 1e-3,              # learning rate of the critic\n",
    "    'WEIGHT_DECAY' : 0,              # L2 weight decay\n",
    "    'UPDATE_EVERY' : 1,              # how often to update the network\n",
    "    'THETA' : 0.15,                  # parameter for Ornstein-Uhlenbeck process\n",
    "    'SIGMA' : 0.2,                   # parameter for Ornstein-Uhlenbeck process and Gaussian noise\n",
    "    'hidden_layers' : [256,128],     # size of hidden_layers\n",
    "    'use_bn' : True,                 # use batch norm or not \n",
    "    'use_reset' : True,              # weights initialization used in original ddpg paper\n",
    "    'noise' : \"gauss\"                # choose noise type, gauss(Gaussian) or OU(Ornstein-Uhlenbeck process) \n",
    "}"
   ]
  },
  {
   "cell_type": "code",
   "execution_count": 3,
   "metadata": {},
   "outputs": [],
   "source": [
    "from maddpg.agents import MultiAgents\n",
    "\n",
    "multiagent = MultiAgents(num_agents=2, obs_size=24, action_size=2, config=config, seed=0)"
   ]
  },
  {
   "cell_type": "code",
   "execution_count": 4,
   "metadata": {},
   "outputs": [
    {
     "data": {
      "text/plain": [
       "Actor(\n",
       "  (batchnorm_input): BatchNorm1d(24, eps=1e-05, momentum=0.1, affine=True, track_running_stats=True)\n",
       "  (batchnorm_layers): ModuleList(\n",
       "    (0): BatchNorm1d(256, eps=1e-05, momentum=0.1, affine=True, track_running_stats=True)\n",
       "    (1): BatchNorm1d(128, eps=1e-05, momentum=0.1, affine=True, track_running_stats=True)\n",
       "  )\n",
       "  (hidden_layers): ModuleList(\n",
       "    (0): Linear(in_features=24, out_features=256, bias=False)\n",
       "    (1): Linear(in_features=256, out_features=128, bias=False)\n",
       "  )\n",
       "  (output): Linear(in_features=128, out_features=2, bias=True)\n",
       ")"
      ]
     },
     "execution_count": 4,
     "metadata": {},
     "output_type": "execute_result"
    }
   ],
   "source": [
    "multiagent.agents[0].actor_local"
   ]
  },
  {
   "cell_type": "code",
   "execution_count": 5,
   "metadata": {},
   "outputs": [
    {
     "data": {
      "text/plain": [
       "Critic(\n",
       "  (bn0): BatchNorm1d(48, eps=1e-05, momentum=0.1, affine=True, track_running_stats=True)\n",
       "  (bn1): BatchNorm1d(256, eps=1e-05, momentum=0.1, affine=True, track_running_stats=True)\n",
       "  (fcs1): Linear(in_features=48, out_features=256, bias=False)\n",
       "  (fcs2): Linear(in_features=260, out_features=128, bias=True)\n",
       "  (fcs3): Linear(in_features=128, out_features=1, bias=True)\n",
       ")"
      ]
     },
     "execution_count": 5,
     "metadata": {},
     "output_type": "execute_result"
    }
   ],
   "source": [
    "multiagent.agents[0].critic_local"
   ]
  },
  {
   "cell_type": "code",
   "execution_count": 6,
   "metadata": {},
   "outputs": [],
   "source": [
    "# load the weights from file\n",
    "for i in range(2):\n",
    "    multiagent.agents[i].actor_local.load_state_dict(torch.load('weights/cp_actor_from_agent_{}.pth'.format(i)))\n",
    "    multiagent.agents[i].critic_local.load_state_dict(torch.load('weights/cp_critic_from_agent_{}.pth'.format(i)))\n",
    "    \n",
    "# load the weights just after achieving goal score\n",
    "#for i in range(2):\n",
    "#    multiagent.agents[i].actor_local.load_state_dict(torch.load('weights/just_after_goal_score/cp_actor_from_agent_{}'.format(i)))\n",
    "#    multiagent.agents[i].critic_local.load_state_dict(torch.load('weights/just_after_goal_score/cp_critic_from_agent_{}'.format(i)))"
   ]
  },
  {
   "cell_type": "code",
   "execution_count": 2,
   "metadata": {},
   "outputs": [
    {
     "name": "stderr",
     "output_type": "stream",
     "text": [
      "INFO:unityagents:\n",
      "'Academy' started successfully!\n",
      "Unity Academy name: Academy\n",
      "        Number of Brains: 1\n",
      "        Number of External Brains : 1\n",
      "        Lesson number : 0\n",
      "        Reset Parameters :\n",
      "\t\t\n",
      "Unity brain name: TennisBrain\n",
      "        Number of Visual Observations (per agent): 0\n",
      "        Vector Observation space type: continuous\n",
      "        Vector Observation space size (per agent): 8\n",
      "        Number of stacked Vector Observation: 3\n",
      "        Vector Action space type: continuous\n",
      "        Vector Action space size (per agent): 2\n",
      "        Vector Action descriptions: , \n"
     ]
    }
   ],
   "source": [
    "env = UnityEnvironment(file_name=\"Tennis_Windows_x86_64/Tennis.exe\")"
   ]
  },
  {
   "cell_type": "code",
   "execution_count": 3,
   "metadata": {},
   "outputs": [],
   "source": [
    "# get the default brain\n",
    "brain_name = env.brain_names[0]\n",
    "brain = env.brains[brain_name]"
   ]
  },
  {
   "cell_type": "code",
   "execution_count": 4,
   "metadata": {},
   "outputs": [
    {
     "name": "stdout",
     "output_type": "stream",
     "text": [
      "Number of agents: 2\n"
     ]
    }
   ],
   "source": [
    "# Run this cell several times to change the initial state and watch the agent.\n",
    "\n",
    "env_info = env.reset(train_mode=False)[brain_name]      # reset the environment    \n",
    "num_agents = len(env_info.agents)\n",
    "print('Number of agents:', num_agents)\n",
    "states = env_info.vector_observations                   # get the current state (for each agent)\n",
    "scores = np.zeros(num_agents)                           # initialize the score (for each agent)\n",
    "\n",
    "step = 0"
   ]
  },
  {
   "cell_type": "code",
   "execution_count": 11,
   "metadata": {},
   "outputs": [
    {
     "name": "stdout",
     "output_type": "stream",
     "text": [
      "time step : 1000\n",
      "Score: 2.600000038743019\n"
     ]
    }
   ],
   "source": [
    "while True:\n",
    "    actions = multiagent.act(states)                # select an action (for each agent)\n",
    "    env_info = env.step(actions)[brain_name]        # send all actions to tne environment\n",
    "    next_states = env_info.vector_observations      # get next state (for each agent)\n",
    "    rewards = env_info.rewards                      # get reward (for each agent)\n",
    "    dones = env_info.local_done                     # see if episode finished\n",
    "    states = next_states                            # roll over states to next time step\n",
    "    scores += rewards                               # update the score (for each agent)\n",
    "    step += 1\n",
    "    if np.any(dones):                               # exit loop if episode finished\n",
    "        print(\"time step :\", step-1)\n",
    "        break\n",
    "    \n",
    "print(\"Score: {}\".format(np.max(scores)))"
   ]
  },
  {
   "cell_type": "code",
   "execution_count": 12,
   "metadata": {},
   "outputs": [],
   "source": [
    "env.close()"
   ]
  },
  {
   "cell_type": "markdown",
   "metadata": {},
   "source": [
    "## Random Agents"
   ]
  },
  {
   "cell_type": "code",
   "execution_count": 5,
   "metadata": {},
   "outputs": [
    {
     "name": "stdout",
     "output_type": "stream",
     "text": [
      "Score (max over agents) from episode 1: 0.0\n",
      "Score (max over agents) from episode 2: 0.0\n",
      "Score (max over agents) from episode 3: 0.0\n",
      "Score (max over agents) from episode 4: 0.0\n",
      "Score (max over agents) from episode 5: 0.0\n",
      "Score (max over agents) from episode 6: 0.0\n",
      "Score (max over agents) from episode 7: 0.09000000171363354\n",
      "Score (max over agents) from episode 8: 0.0\n",
      "Score (max over agents) from episode 9: 0.0\n",
      "Score (max over agents) from episode 10: 0.0\n",
      "Score (max over agents) from episode 11: 0.09000000171363354\n",
      "Score (max over agents) from episode 12: 0.0\n",
      "Score (max over agents) from episode 13: 0.0\n"
     ]
    }
   ],
   "source": [
    "for i in range(1, 14):                                      # play game for 8 episodes\n",
    "    env_info = env.reset(train_mode=False)[brain_name]     # reset the environment    \n",
    "    states = env_info.vector_observations                  # get the current state (for each agent)\n",
    "    scores = np.zeros(num_agents)                          # initialize the score (for each agent)\n",
    "    while True:\n",
    "        actions = np.random.randn(num_agents, 2) # select an action (for each agent)\n",
    "        actions = np.clip(actions, -1, 1)                  # all actions between -1 and 1\n",
    "        env_info = env.step(actions)[brain_name]           # send all actions to tne environment\n",
    "        next_states = env_info.vector_observations         # get next state (for each agent)\n",
    "        rewards = env_info.rewards                         # get reward (for each agent)\n",
    "        dones = env_info.local_done                        # see if episode finished\n",
    "        scores += env_info.rewards                         # update the score (for each agent)\n",
    "        states = next_states                               # roll over states to next time step\n",
    "        if np.any(dones):                                  # exit loop if episode finished\n",
    "            break\n",
    "    print('Score (max over agents) from episode {}: {}'.format(i, np.max(scores)))"
   ]
  },
  {
   "cell_type": "code",
   "execution_count": 6,
   "metadata": {},
   "outputs": [],
   "source": [
    "env.close()"
   ]
  },
  {
   "cell_type": "code",
   "execution_count": null,
   "metadata": {},
   "outputs": [],
   "source": []
  }
 ],
 "metadata": {
  "kernelspec": {
   "display_name": "drlnd",
   "language": "python",
   "name": "drlnd"
  },
  "language_info": {
   "codemirror_mode": {
    "name": "ipython",
    "version": 3
   },
   "file_extension": ".py",
   "mimetype": "text/x-python",
   "name": "python",
   "nbconvert_exporter": "python",
   "pygments_lexer": "ipython3",
   "version": "3.6.6"
  }
 },
 "nbformat": 4,
 "nbformat_minor": 2
}
